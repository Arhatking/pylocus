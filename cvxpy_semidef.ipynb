{
 "cells": [
  {
   "cell_type": "code",
   "execution_count": 1,
   "metadata": {
    "collapsed": false
   },
   "outputs": [],
   "source": [
    "import numpy as np\n",
    "import matplotlib.pylab as plt"
   ]
  },
  {
   "cell_type": "code",
   "execution_count": 27,
   "metadata": {
    "collapsed": false
   },
   "outputs": [
    {
     "name": "stdout",
     "output_type": "stream",
     "text": [
      "init edm error: 0.128855739336\n"
     ]
    }
   ],
   "source": [
    "from point_configuration import PointConfiguration\n",
    "from basics import create_noisy_edm\n",
    "\n",
    "## Setup\n",
    "n = 10\n",
    "d = 3\n",
    "e = np.ones(n)\n",
    "p = PointConfiguration(n, d)\n",
    "p.set_points(mode='normal')\n",
    "noise = 0.01\n",
    "edm_measured = create_noisy_edm(p.edm, noise)\n",
    "print('init edm error:', np.linalg.norm(edm_measured - p.edm))"
   ]
  },
  {
   "cell_type": "code",
   "execution_count": 28,
   "metadata": {
    "collapsed": false
   },
   "outputs": [
    {
     "name": "stdout",
     "output_type": "stream",
     "text": [
      "total cost: 24.46499800552175\n",
      "trace of H: 24.7667220555\n",
      "other cost: 27.7905595253\n"
     ]
    }
   ],
   "source": [
    "from semidefinite import reconstruct_sdp\n",
    "W = np.ones([n,n])\n",
    "lamda = 1000\n",
    "\n",
    "Xhat, EDMbest = reconstruct_sdp(edm_measured, W, lamda, p.points)"
   ]
  },
  {
   "cell_type": "code",
   "execution_count": 29,
   "metadata": {
    "collapsed": false
   },
   "outputs": [
    {
     "name": "stdout",
     "output_type": "stream",
     "text": [
      "init edm error: 0.128855739336\n",
      "final edm error: 0.105095376681\n",
      "rmse: 0.00452352092845\n"
     ]
    },
    {
     "data": {
      "image/png": "[encoded data removed]",
      "text/plain": [
       "<matplotlib.figure.Figure at 0x7f578da39470>"
      ]
     },
     "metadata": {},
     "output_type": "display_data"
    },
    {
     "data": {
      "image/png": "[encoded data removed]",
      "text/plain": [
       "<matplotlib.figure.Figure at 0x7f578d993a58>"
      ]
     },
     "metadata": {},
     "output_type": "display_data"
    }
   ],
   "source": [
    "from plots_cti import plot_point_sets, plot_matrix\n",
    "print('init edm error:', np.linalg.norm(edm_measured - p.edm))\n",
    "print('final edm error:', np.linalg.norm(EDMbest - p.edm))\n",
    "print('rmse:',np.linalg.norm(p.points-Xhat)/np.sqrt(len(Xhat)))\n",
    "plot_matrix(EDMbest, 'EDM hat')\n",
    "plot_matrix(p.edm, 'EDM')\n",
    "#plot_point_sets([p.points,Xhat],names=['X','Xhat'],display_lines=True)"
   ]
  },
  {
   "cell_type": "code",
   "execution_count": null,
   "metadata": {
    "collapsed": false
   },
   "outputs": [],
   "source": []
  },
  {
   "cell_type": "code",
   "execution_count": null,
   "metadata": {
    "collapsed": true
   },
   "outputs": [],
   "source": []
  }
 ],
 "metadata": {
  "kernelspec": {
   "display_name": "Python 3",
   "language": "python",
   "name": "python3"
  },
  "language_info": {
   "codemirror_mode": {
    "name": "ipython",
    "version": 3
   },
   "file_extension": ".py",
   "mimetype": "text/x-python",
   "name": "python",
   "nbconvert_exporter": "python",
   "pygments_lexer": "ipython3",
   "version": "3.6.0"
  }
 },
 "nbformat": 4,
 "nbformat_minor": 2
}
