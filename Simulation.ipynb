{
 "cells": [
  {
   "cell_type": "code",
   "execution_count": 1,
   "metadata": {
    "collapsed": true
   },
   "outputs": [],
   "source": [
    "#Useful imports\n",
    "%matplotlib inline\n",
    "import numpy as np\n",
    "import matplotlib.pyplot as plt\n",
    "from math import sin, cos, asin, acos, atan\n",
    "%reload_ext autoreload\n",
    "%autoreload 2\n",
    "plt.style.use('latex.mplstyle')\n",
    "\n",
    "from point_configuration import PointConfiguration"
   ]
  },
  {
   "cell_type": "code",
   "execution_count": null,
   "metadata": {
    "collapsed": false
   },
   "outputs": [
    {
     "name": "stdout",
     "output_type": "stream",
     "text": [
      "0\n",
      "0.001\n"
     ]
    },
    {
     "data": {
      "image/png": "[encoded data removed]",
      "text/plain": [
       "<matplotlib.figure.Figure at 0x7f6df82840f0>"
      ]
     },
     "metadata": {},
     "output_type": "display_data"
    }
   ],
   "source": [
    "from plots_cti import plot_point_sets_3d, plot_matrix\n",
    "## Simulation without missing data, different noise levels.\n",
    "from algorithms import reconstruct_mds\n",
    "from algorithms import reconstruct_srls\n",
    "from algorithms import reconstruct_acd\n",
    "from distributed_mds import reconstruct_dwmds\n",
    "from semidefinite import reconstruct_sdp\n",
    "\n",
    "from basics import create_noisy_edm, get_edm\n",
    "\n",
    "N = 10\n",
    "m = 6\n",
    "n = N - m\n",
    "d = 3\n",
    "\n",
    "square_size = 5\n",
    "\n",
    "noises = np.linspace(1e-3,1e-1,1)\n",
    "max_it = 1\n",
    "\n",
    "p = PointConfiguration(N, d)\n",
    "\n",
    "errs = np.zeros(len(noises))\n",
    "errs_dict = {\n",
    "    'noise':errs.copy(),\n",
    "    'mds':errs.copy(),\n",
    "    'acd':errs.copy(),\n",
    "    'dwmds':errs.copy(),\n",
    "    'sdr':errs.copy(),\n",
    "    'srls':errs.copy()}\n",
    "\n",
    "\n",
    "lamda = 1000\n",
    "for it in range(max_it):\n",
    "    print(it)\n",
    "    p.set_points('random',size=square_size)\n",
    "    \n",
    "    for i, noise in enumerate(noises):\n",
    "        print(noise)\n",
    "        noisy_edm = create_noisy_edm(p.edm, noise)\n",
    "        \n",
    "        ## anchor-free methods \n",
    "        weights = np.ones((N,N))\n",
    "        weights[range(N),range(N)] = 0.0\n",
    "        x_MDS = reconstruct_mds(noisy_edm, real_points=p.points, method='geometric')\n",
    "        x_ACD, fs, err_edms, err_points = reconstruct_acd(noisy_edm, weights, X_0=x_MDS.copy(), real_points=p.points)\n",
    "        x_dwMDS, costs = reconstruct_dwmds(noisy_edm, X=p.points.copy(), W=weights, n=n)\n",
    "        x_sdr, EDMbest = reconstruct_sdp(noisy_edm, weights, lamda, p.points)\n",
    "        plt.plot(costs)\n",
    "        \n",
    "        plot_point_sets_3d([p.points, x_MDS, x_dwMDS],['original','MDS','dwMDS'], display_lines=True)\n",
    "        \n",
    "        err_noise = np.linalg.norm(p.points - p.points)\n",
    "        err_MDS = np.linalg.norm(x_MDS - p.points)\n",
    "        print('err_MDS  ',err_MDS)\n",
    "        err_ACD = np.linalg.norm(x_ACD - p.points)\n",
    "        print('err_ACD  ',err_ACD)\n",
    "        err_dwMDS = np.linalg.norm(x_dwMDS - p.points)\n",
    "        print('err_dwMDS',err_dwMDS)\n",
    "        err_SDR = np.linalg.norm(x_sdr - p.points)\n",
    "        print('err_SDR  ',err_SDR)\n",
    "        errs_dict['noise'][i] += err_noise\n",
    "        errs_dict['mds'][i] += err_MDS\n",
    "        errs_dict['acd'][i] += err_ACD\n",
    "        errs_dict['sdr'][i] += err_SDR\n",
    "        errs_dict['dwmds'][i] += err_dwMDS\n",
    "              \n",
    "        ## anchor-methods\n",
    "        ## TODO: use number of anchors\n",
    "        x_SRLS = reconstruct_srls(noisy_edm, p.points, indices=range(n), weights=None)\n",
    "        err_SRLS = np.linalg.norm(x_SRLS - p.points)\n",
    "        errs_dict['srls'][i] += err_SRLS\n",
    "        print('err_SRLS ',err_SRLS)"
   ]
  },
  {
   "cell_type": "code",
   "execution_count": null,
   "metadata": {
    "collapsed": false
   },
   "outputs": [],
   "source": []
  },
  {
   "cell_type": "code",
   "execution_count": null,
   "metadata": {
    "collapsed": true
   },
   "outputs": [],
   "source": []
  }
 ],
 "metadata": {
  "kernelspec": {
   "display_name": "Python 3",
   "language": "python",
   "name": "python3"
  },
  "language_info": {
   "codemirror_mode": {
    "name": "ipython",
    "version": 3
   },
   "file_extension": ".py",
   "mimetype": "text/x-python",
   "name": "python",
   "nbconvert_exporter": "python",
   "pygments_lexer": "ipython3",
   "version": "3.6.0"
  }
 },
 "nbformat": 4,
 "nbformat_minor": 2
}
