{
 "cells": [
  {
   "cell_type": "code",
   "execution_count": 1,
   "metadata": {
    "collapsed": true
   },
   "outputs": [],
   "source": [
    "import numpy as np\n",
    "import matplotlib.pylab as plt\n",
    "from point_configuration import PointConfiguration"
   ]
  },
  {
   "cell_type": "code",
   "execution_count": 9,
   "metadata": {
    "collapsed": false
   },
   "outputs": [
    {
     "name": "stdout",
     "output_type": "stream",
     "text": [
      "anchors: 7, uncertain: 3\n"
     ]
    }
   ],
   "source": [
    "from basics import create_noisy_edm\n",
    "N = 10 # total number of points\n",
    "n = 3 # number of points to localize\n",
    "m = N-n # number of anchors\n",
    "d = 3\n",
    "p = PointConfiguration(N, d)\n",
    "p.set_points('normal')\n",
    "print('anchors: {}, uncertain: {}'.format(m, n))\n",
    "\n",
    "noise = 0.01\n",
    "edm_measured = create_noisy_edm(p.edm, noise)"
   ]
  },
  {
   "cell_type": "code",
   "execution_count": null,
   "metadata": {
    "collapsed": false
   },
   "outputs": [],
   "source": [
    "from basics import get_edm\n",
    "from plots_cti import plot_point_sets, plot_matrix\n",
    "from distributed_mds import reconstruct_dwmds\n",
    "\n",
    "W = np.ones((N,N))\n",
    "W[range(N), range(N)] = 0.0\n",
    "r = 10 * np.zeros((n,1))\n",
    "X_bar = p.points[:n]\n",
    "\n",
    "X0 = p.points.copy()\n",
    "max_iter = 20\n",
    "\n",
    "print('init edm error:', np.linalg.norm(edm_measured**0.5 - get_edm(X0)**0.5))\n",
    "\n",
    "X, costs = reconstruct_dwmds(edm_measured, X0, W, r=r, X_bar=X_bar, max_iter=max_iter)\n",
    "#plot_point_sets([p.points, X],display_lines=True)\n",
    "\n",
    "print('final cost:', costs[-1][0])\n",
    "print('final edm error:', np.linalg.norm(edm_measured**0.5 - get_edm(X)**0.5))\n",
    "print('rmse error:',np.linalg.norm(X-p.points)/n)\n",
    "\n",
    "plt.plot(costs)\n",
    "plt.xlabel('iteration')\n",
    "plt.ylabel('Cost')\n",
    "plt.show() "
   ]
  },
  {
   "cell_type": "code",
   "execution_count": null,
   "metadata": {
    "collapsed": true
   },
   "outputs": [],
   "source": []
  }
 ],
 "metadata": {
  "kernelspec": {
   "display_name": "Python 3",
   "language": "python",
   "name": "python3"
  },
  "language_info": {
   "codemirror_mode": {
    "name": "ipython",
    "version": 3
   },
   "file_extension": ".py",
   "mimetype": "text/x-python",
   "name": "python",
   "nbconvert_exporter": "python",
   "pygments_lexer": "ipython3",
   "version": "3.6.0"
  }
 },
 "nbformat": 4,
 "nbformat_minor": 2
}
